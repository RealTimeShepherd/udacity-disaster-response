{
 "cells": [
  {
   "cell_type": "code",
   "execution_count": 18,
   "metadata": {},
   "outputs": [],
   "source": [
    "import json\n",
    "import plotly\n",
    "import pandas as pd\n",
    "\n",
    "from nltk.stem import WordNetLemmatizer\n",
    "from nltk.tokenize import word_tokenize\n",
    "\n",
    "from flask import Flask\n",
    "from flask import render_template, request, jsonify\n",
    "from plotly.graph_objs import Bar\n",
    "import joblib\n",
    "from sqlalchemy import create_engine"
   ]
  },
  {
   "cell_type": "code",
   "execution_count": 19,
   "metadata": {},
   "outputs": [],
   "source": [
    "\n",
    "# load data\n",
    "engine = create_engine('sqlite:///data/DisasterResponse.db')\n",
    "df = pd.read_sql_table('messages_categorised', engine)\n"
   ]
  },
  {
   "cell_type": "code",
   "execution_count": 13,
   "metadata": {},
   "outputs": [
    {
     "name": "stdout",
     "output_type": "stream",
     "text": [
      "['related', 'request', 'offer', 'aid related', 'medical help', 'medical products', 'search and rescue', 'security', 'military', 'child alone', 'water', 'food', 'shelter', 'clothing', 'money', 'missing people', 'refugees', 'death', 'other aid', 'infrastructure related', 'transport', 'buildings', 'electricity', 'tools', 'hospitals', 'shops', 'aid centers', 'other infrastructure', 'weather related', 'floods', 'storm', 'fire', 'earthquake', 'cold', 'other weather', 'direct report']\n"
     ]
    }
   ],
   "source": [
    "x = [c.replace('_', ' ') for c in df.columns.tolist()[4:]]\n",
    "print(x)"
   ]
  },
  {
   "cell_type": "code",
   "execution_count": 11,
   "metadata": {},
   "outputs": [
    {
     "name": "stdout",
     "output_type": "stream",
     "text": [
      "[20093  4474   118 10860  2084  1313   724   471   860     0  1672  2923\n",
      "  2314   405   604   298   875  1194  3446  1705  1201  1333   532   159\n",
      "   283   120   309  1151  7297  2155  2443   282  2455   530  1376  5075]\n"
     ]
    }
   ],
   "source": [
    "y = df.iloc[:, -36:].sum().values\n",
    "print(y)"
   ]
  },
  {
   "cell_type": "code",
   "execution_count": 14,
   "metadata": {},
   "outputs": [
    {
     "name": "stdout",
     "output_type": "stream",
     "text": [
      "['English', 'Translated']\n"
     ]
    }
   ],
   "source": [
    "x = ['English', 'Translated']\n",
    "print(x)"
   ]
  },
  {
   "cell_type": "code",
   "execution_count": 27,
   "metadata": {},
   "outputs": [
    {
     "name": "stdout",
     "output_type": "stream",
     "text": [
      "[16045, 10170]\n"
     ]
    }
   ],
   "source": [
    "null_count = df['original'].isnull().sum()\n",
    "y = [null_count, df.shape[0] - null_count]\n",
    "print(y)"
   ]
  }
 ],
 "metadata": {
  "kernelspec": {
   "display_name": "Python 3",
   "language": "python",
   "name": "python3"
  },
  "language_info": {
   "codemirror_mode": {
    "name": "ipython",
    "version": 3
   },
   "file_extension": ".py",
   "mimetype": "text/x-python",
   "name": "python",
   "nbconvert_exporter": "python",
   "pygments_lexer": "ipython3",
   "version": "3.10.10"
  }
 },
 "nbformat": 4,
 "nbformat_minor": 2
}
